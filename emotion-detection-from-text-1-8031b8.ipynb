{
 "cells": [
  {
   "cell_type": "code",
   "execution_count": 1,
   "id": "d10c5e36",
   "metadata": {
    "execution": {
     "iopub.execute_input": "2021-08-15T16:34:20.469394Z",
     "iopub.status.busy": "2021-08-15T16:34:20.458028Z",
     "iopub.status.idle": "2021-08-15T16:34:36.314243Z",
     "shell.execute_reply": "2021-08-15T16:34:36.313165Z",
     "shell.execute_reply.started": "2021-08-15T16:31:05.625296Z"
    },
    "papermill": {
     "duration": 15.902097,
     "end_time": "2021-08-15T16:34:36.314417",
     "exception": false,
     "start_time": "2021-08-15T16:34:20.412320",
     "status": "completed"
    },
    "tags": []
   },
   "outputs": [],
   "source": [
    "!pip install pandas --quiet\n",
    "!pip install torchtext --quiet"
   ]
  },
  {
   "cell_type": "code",
   "execution_count": 2,
   "id": "78669dae",
   "metadata": {
    "execution": {
     "iopub.execute_input": "2021-08-15T16:34:36.372167Z",
     "iopub.status.busy": "2021-08-15T16:34:36.371321Z",
     "iopub.status.idle": "2021-08-15T16:34:38.605747Z",
     "shell.execute_reply": "2021-08-15T16:34:38.605232Z",
     "shell.execute_reply.started": "2021-08-15T16:31:21.511069Z"
    },
    "papermill": {
     "duration": 2.265643,
     "end_time": "2021-08-15T16:34:38.605910",
     "exception": false,
     "start_time": "2021-08-15T16:34:36.340267",
     "status": "completed"
    },
    "tags": []
   },
   "outputs": [],
   "source": [
    "import os\n",
    "import numpy as np\n",
    "import pandas as pd\n",
    "import matplotlib.pyplot as plt\n",
    "from tqdm.notebook import tqdm\n",
    "\n",
    "from collections import Counter\n",
    "\n",
    "import torch\n",
    "import torch.nn as nn\n",
    "import torch.optim as optim\n",
    "import torch.nn.functional as F\n",
    "from torch.utils.data import TensorDataset, DataLoader\n",
    "from sklearn import metrics\n",
    "\n",
    "import torchtext\n",
    "from torchtext.data import get_tokenizer\n",
    "\n",
    "from sklearn.utils import shuffle\n",
    "from sklearn.metrics import classification_report\n",
    "from sklearn.linear_model import LogisticRegression\n",
    "from sklearn.model_selection import train_test_split\n",
    "from sklearn.feature_extraction.text import CountVectorizer\n"
   ]
  },
  {
   "cell_type": "code",
   "execution_count": 4,
   "id": "df1d07f2",
   "metadata": {
    "execution": {
     "iopub.execute_input": "2021-08-15T16:34:38.663567Z",
     "iopub.status.busy": "2021-08-15T16:34:38.662548Z",
     "iopub.status.idle": "2021-08-15T16:34:38.665608Z",
     "shell.execute_reply": "2021-08-15T16:34:38.665119Z",
     "shell.execute_reply.started": "2021-08-15T16:31:21.533154Z"
    },
    "papermill": {
     "duration": 0.034746,
     "end_time": "2021-08-15T16:34:38.665740",
     "exception": false,
     "start_time": "2021-08-15T16:34:38.630994",
     "status": "completed"
    },
    "tags": []
   },
   "outputs": [],
   "source": [
    "def set_device():\n",
    "    device = \"cuda\" if torch.cuda.is_available() else \"cpu\"\n",
    "    if device != \"cuda\":\n",
    "        print(\"WARNING: For this notebook to perform best, \"\n",
    "            \"if possible, in the menu under `Runtime` -> \"\n",
    "              \"`Change runtime type.`  select `GPU` \")\n",
    "    else:\n",
    "        print(\"GPU is enabled in this notebook.\")\n",
    "\n",
    "    return device"
   ]
  },
  {
   "cell_type": "code",
   "execution_count": 5,
   "id": "26c7ab5d",
   "metadata": {
    "execution": {
     "iopub.execute_input": "2021-08-15T16:34:38.758550Z",
     "iopub.status.busy": "2021-08-15T16:34:38.757951Z",
     "iopub.status.idle": "2021-08-15T16:34:38.762827Z",
     "shell.execute_reply": "2021-08-15T16:34:38.763689Z",
     "shell.execute_reply.started": "2021-08-15T16:31:21.546296Z"
    },
    "papermill": {
     "duration": 0.073017,
     "end_time": "2021-08-15T16:34:38.763837",
     "exception": false,
     "start_time": "2021-08-15T16:34:38.690820",
     "status": "completed"
    },
    "tags": []
   },
   "outputs": [
    {
     "name": "stdout",
     "output_type": "stream",
     "text": [
      "WARNING: For this notebook to perform best, if possible, in the menu under `Runtime` -> `Change runtime type.`  select `GPU` \n"
     ]
    }
   ],
   "source": [
    "# Set the device (check if gpu is available)\n",
    "device = set_device()"
   ]
  },
  {
   "cell_type": "code",
   "execution_count": 6,
   "id": "cbdafcaf",
   "metadata": {
    "execution": {
     "iopub.execute_input": "2021-08-15T16:34:38.821970Z",
     "iopub.status.busy": "2021-08-15T16:34:38.821341Z",
     "iopub.status.idle": "2021-08-15T16:34:39.011884Z",
     "shell.execute_reply": "2021-08-15T16:34:39.012365Z",
     "shell.execute_reply.started": "2021-08-15T16:31:21.559674Z"
    },
    "papermill": {
     "duration": 0.221451,
     "end_time": "2021-08-15T16:34:39.012547",
     "exception": false,
     "start_time": "2021-08-15T16:34:38.791096",
     "status": "completed"
    },
    "tags": []
   },
   "outputs": [
    {
     "data": {
      "text/html": [
       "<div>\n",
       "<style scoped>\n",
       "    .dataframe tbody tr th:only-of-type {\n",
       "        vertical-align: middle;\n",
       "    }\n",
       "\n",
       "    .dataframe tbody tr th {\n",
       "        vertical-align: top;\n",
       "    }\n",
       "\n",
       "    .dataframe thead th {\n",
       "        text-align: right;\n",
       "    }\n",
       "</style>\n",
       "<table border=\"1\" class=\"dataframe\">\n",
       "  <thead>\n",
       "    <tr style=\"text-align: right;\">\n",
       "      <th></th>\n",
       "      <th>tweet_id</th>\n",
       "      <th>sentiment</th>\n",
       "      <th>content</th>\n",
       "      <th>label</th>\n",
       "      <th>data_type</th>\n",
       "    </tr>\n",
       "  </thead>\n",
       "  <tbody>\n",
       "    <tr>\n",
       "      <th>0</th>\n",
       "      <td>1956967666</td>\n",
       "      <td>sadness</td>\n",
       "      <td>layin n bed with a headache ughh...waitin &lt;-em...</td>\n",
       "      <td>0</td>\n",
       "      <td>train</td>\n",
       "    </tr>\n",
       "    <tr>\n",
       "      <th>1</th>\n",
       "      <td>1956967696</td>\n",
       "      <td>sadness</td>\n",
       "      <td>funeral ceremony...gloomy friday...</td>\n",
       "      <td>0</td>\n",
       "      <td>train</td>\n",
       "    </tr>\n",
       "    <tr>\n",
       "      <th>2</th>\n",
       "      <td>1956968416</td>\n",
       "      <td>neutral</td>\n",
       "      <td>@men we want to trade with someone who has hou...</td>\n",
       "      <td>1</td>\n",
       "      <td>train</td>\n",
       "    </tr>\n",
       "    <tr>\n",
       "      <th>3</th>\n",
       "      <td>1956968477</td>\n",
       "      <td>worry</td>\n",
       "      <td>re-pinging @men: why did not you go to prom? b...</td>\n",
       "      <td>2</td>\n",
       "      <td>val</td>\n",
       "    </tr>\n",
       "    <tr>\n",
       "      <th>4</th>\n",
       "      <td>1956968487</td>\n",
       "      <td>sadness</td>\n",
       "      <td>i should be sleep, but i am not! thinking abou...</td>\n",
       "      <td>0</td>\n",
       "      <td>train</td>\n",
       "    </tr>\n",
       "  </tbody>\n",
       "</table>\n",
       "</div>"
      ],
      "text/plain": [
       "     tweet_id sentiment                                            content  \\\n",
       "0  1956967666   sadness  layin n bed with a headache ughh...waitin <-em...   \n",
       "1  1956967696   sadness                funeral ceremony...gloomy friday...   \n",
       "2  1956968416   neutral  @men we want to trade with someone who has hou...   \n",
       "3  1956968477     worry  re-pinging @men: why did not you go to prom? b...   \n",
       "4  1956968487   sadness  i should be sleep, but i am not! thinking abou...   \n",
       "\n",
       "   label data_type  \n",
       "0      0     train  \n",
       "1      0     train  \n",
       "2      1     train  \n",
       "3      2       val  \n",
       "4      0     train  "
      ]
     },
     "execution_count": 6,
     "metadata": {},
     "output_type": "execute_result"
    }
   ],
   "source": [
    "df = pd.read_csv('df_processed.csv')\n",
    "\n",
    "# Let's have a look at it\n",
    "df.head()"
   ]
  },
  {
   "cell_type": "markdown",
   "id": "86e09735",
   "metadata": {
    "papermill": {
     "duration": 0.026747,
     "end_time": "2021-08-15T16:34:39.065707",
     "exception": false,
     "start_time": "2021-08-15T16:34:39.038960",
     "status": "completed"
    },
    "tags": []
   },
   "source": [
    "**Remove some classess: happiness, hate, fun, love, surprise**"
   ]
  },
  {
   "cell_type": "code",
   "execution_count": 6,
   "id": "febbc6a6",
   "metadata": {
    "execution": {
     "iopub.execute_input": "2021-08-15T16:34:39.134544Z",
     "iopub.status.busy": "2021-08-15T16:34:39.133808Z",
     "iopub.status.idle": "2021-08-15T16:34:39.177656Z",
     "shell.execute_reply": "2021-08-15T16:34:39.178183Z",
     "shell.execute_reply.started": "2021-08-15T16:31:21.648795Z"
    },
    "papermill": {
     "duration": 0.086227,
     "end_time": "2021-08-15T16:34:39.178403",
     "exception": false,
     "start_time": "2021-08-15T16:34:39.092176",
     "status": "completed"
    },
    "tags": []
   },
   "outputs": [
    {
     "name": "stdout",
     "output_type": "stream",
     "text": [
      "22796\n"
     ]
    },
    {
     "data": {
      "text/html": [
       "<div>\n",
       "<style scoped>\n",
       "    .dataframe tbody tr th:only-of-type {\n",
       "        vertical-align: middle;\n",
       "    }\n",
       "\n",
       "    .dataframe tbody tr th {\n",
       "        vertical-align: top;\n",
       "    }\n",
       "\n",
       "    .dataframe thead th {\n",
       "        text-align: right;\n",
       "    }\n",
       "</style>\n",
       "<table border=\"1\" class=\"dataframe\">\n",
       "  <thead>\n",
       "    <tr style=\"text-align: right;\">\n",
       "      <th></th>\n",
       "      <th>tweet_id</th>\n",
       "      <th>sentiment</th>\n",
       "      <th>content</th>\n",
       "    </tr>\n",
       "  </thead>\n",
       "  <tbody>\n",
       "    <tr>\n",
       "      <th>0</th>\n",
       "      <td>1956967341</td>\n",
       "      <td>empty</td>\n",
       "      <td>@tiffanylue i know  i was listenin to bad habi...</td>\n",
       "    </tr>\n",
       "    <tr>\n",
       "      <th>1</th>\n",
       "      <td>1956967666</td>\n",
       "      <td>sadness</td>\n",
       "      <td>Layin n bed with a headache  ughhhh...waitin o...</td>\n",
       "    </tr>\n",
       "    <tr>\n",
       "      <th>2</th>\n",
       "      <td>1956967696</td>\n",
       "      <td>sadness</td>\n",
       "      <td>Funeral ceremony...gloomy friday...</td>\n",
       "    </tr>\n",
       "    <tr>\n",
       "      <th>3</th>\n",
       "      <td>1956967789</td>\n",
       "      <td>enthusiasm</td>\n",
       "      <td>wants to hang out with friends SOON!</td>\n",
       "    </tr>\n",
       "    <tr>\n",
       "      <th>4</th>\n",
       "      <td>1956968416</td>\n",
       "      <td>neutral</td>\n",
       "      <td>@dannycastillo We want to trade with someone w...</td>\n",
       "    </tr>\n",
       "  </tbody>\n",
       "</table>\n",
       "</div>"
      ],
      "text/plain": [
       "     tweet_id   sentiment                                            content\n",
       "0  1956967341       empty  @tiffanylue i know  i was listenin to bad habi...\n",
       "1  1956967666     sadness  Layin n bed with a headache  ughhhh...waitin o...\n",
       "2  1956967696     sadness                Funeral ceremony...gloomy friday...\n",
       "3  1956967789  enthusiasm               wants to hang out with friends SOON!\n",
       "4  1956968416     neutral  @dannycastillo We want to trade with someone w..."
      ]
     },
     "execution_count": 6,
     "metadata": {},
     "output_type": "execute_result"
    }
   ],
   "source": [
    "indexForRemove = df[ (df['sentiment'] == 'happiness') | \n",
    "                    (df['sentiment'] == 'hate') | \n",
    "                    (df['sentiment'] == 'fun') | \n",
    "                    (df['sentiment'] == 'love') | \n",
    "                    (df['sentiment'] == 'surprise') | \n",
    "                    (df['sentiment'] == 'worry') ].index\n",
    "print(len(indexForRemove))\n",
    "df.drop(index=indexForRemove , inplace=True)\n",
    "df.head()"
   ]
  },
  {
   "cell_type": "code",
   "execution_count": 7,
   "id": "49ed364c",
   "metadata": {
    "execution": {
     "iopub.execute_input": "2021-08-15T16:34:39.243679Z",
     "iopub.status.busy": "2021-08-15T16:34:39.242627Z",
     "iopub.status.idle": "2021-08-15T16:34:39.249543Z",
     "shell.execute_reply": "2021-08-15T16:34:39.248799Z",
     "shell.execute_reply.started": "2021-08-15T16:31:21.713264Z"
    },
    "papermill": {
     "duration": 0.04304,
     "end_time": "2021-08-15T16:34:39.249720",
     "exception": false,
     "start_time": "2021-08-15T16:34:39.206680",
     "status": "completed"
    },
    "tags": []
   },
   "outputs": [
    {
     "name": "stdout",
     "output_type": "stream",
     "text": [
      "['sadness' 'neutral' 'worry' 'surprise' 'love' 'fun' 'hate' 'happiness'\n",
      " 'relief'] 9\n",
      "{0: 'sadness', 1: 'neutral', 2: 'worry', 3: 'surprise', 4: 'love', 5: 'fun', 6: 'hate', 7: 'happiness', 8: 'relief'}\n",
      "{'sadness': 0, 'neutral': 1, 'worry': 2, 'surprise': 3, 'love': 4, 'fun': 5, 'hate': 6, 'happiness': 7, 'relief': 8}\n"
     ]
    }
   ],
   "source": [
    "VOC_CLASSES = df['sentiment'].unique()\n",
    "LEN_CLASSES = len(VOC_CLASSES)\n",
    "encoding2label = dict(enumerate(VOC_CLASSES))\n",
    "label2encoding = {value: key for key, value in encoding2label.items()}\n",
    "\n",
    "print(VOC_CLASSES, LEN_CLASSES)\n",
    "print(encoding2label)\n",
    "print(label2encoding)"
   ]
  },
  {
   "cell_type": "code",
   "execution_count": 8,
   "id": "0e1b0e77",
   "metadata": {
    "execution": {
     "iopub.execute_input": "2021-08-15T16:34:39.310297Z",
     "iopub.status.busy": "2021-08-15T16:34:39.309679Z",
     "iopub.status.idle": "2021-08-15T16:34:39.312946Z",
     "shell.execute_reply": "2021-08-15T16:34:39.313530Z",
     "shell.execute_reply.started": "2021-08-15T16:31:21.730016Z"
    },
    "papermill": {
     "duration": 0.036448,
     "end_time": "2021-08-15T16:34:39.313706",
     "exception": false,
     "start_time": "2021-08-15T16:34:39.277258",
     "status": "completed"
    },
    "tags": []
   },
   "outputs": [
    {
     "name": "stdout",
     "output_type": "stream",
     "text": [
      "38125 38125\n"
     ]
    }
   ],
   "source": [
    "X = df.content.values\n",
    "y = [label2encoding[l] for l in df.sentiment.values]\n",
    "print(len(X), len(y))"
   ]
  },
  {
   "cell_type": "code",
   "execution_count": 9,
   "id": "3f57fbd7",
   "metadata": {
    "execution": {
     "iopub.execute_input": "2021-08-15T16:34:39.371779Z",
     "iopub.status.busy": "2021-08-15T16:34:39.371162Z",
     "iopub.status.idle": "2021-08-15T16:34:39.395065Z",
     "shell.execute_reply": "2021-08-15T16:34:39.394545Z",
     "shell.execute_reply.started": "2021-08-15T16:31:21.746460Z"
    },
    "papermill": {
     "duration": 0.055688,
     "end_time": "2021-08-15T16:34:39.395220",
     "exception": false,
     "start_time": "2021-08-15T16:34:39.339532",
     "status": "completed"
    },
    "tags": []
   },
   "outputs": [],
   "source": [
    "# Split the data into train and test\n",
    "x_train_text, x_test_text, y_train, y_test = train_test_split(X, y, test_size=0.2, random_state=42, stratify=y)"
   ]
  },
  {
   "cell_type": "markdown",
   "id": "bf158b0f",
   "metadata": {
    "papermill": {
     "duration": 0.028871,
     "end_time": "2021-08-15T16:34:39.452485",
     "exception": false,
     "start_time": "2021-08-15T16:34:39.423614",
     "status": "completed"
    },
    "tags": []
   },
   "source": [
    "# Tokenaizer sentences\n",
    "this part will be change if use BERT"
   ]
  },
  {
   "cell_type": "code",
   "execution_count": 10,
   "id": "e3e0fabd",
   "metadata": {
    "execution": {
     "iopub.execute_input": "2021-08-15T16:34:39.512969Z",
     "iopub.status.busy": "2021-08-15T16:34:39.512254Z",
     "iopub.status.idle": "2021-08-15T16:34:39.515675Z",
     "shell.execute_reply": "2021-08-15T16:34:39.516176Z",
     "shell.execute_reply.started": "2021-08-15T16:31:21.778419Z"
    },
    "papermill": {
     "duration": 0.036079,
     "end_time": "2021-08-15T16:34:39.516315",
     "exception": false,
     "start_time": "2021-08-15T16:34:39.480236",
     "status": "completed"
    },
    "tags": []
   },
   "outputs": [
    {
     "name": "stdout",
     "output_type": "stream",
     "text": [
      "worry: @men @men yeah ecpm is going up and down badly - hope things improve\n",
      "surprise: -- omg i cannot believe jay leno is going off the air i hate conan <-empu o'brian <-empu\n",
      "neutral: @men he is on an iphone\n",
      "worry: @men problem is i have to get it done this weekend one way or another.\n",
      "sadness: @men aaron and i are playing a gig at the life aquatic party outside of austin, so i think we shall have to mis the tt bday party, sadly\n"
     ]
    }
   ],
   "source": [
    "for x, y in zip(x_train_text[:5], y_train[:5]):\n",
    "    print('{}: {}'.format(encoding2label[y], x))"
   ]
  },
  {
   "cell_type": "code",
   "execution_count": 11,
   "id": "848465a7",
   "metadata": {
    "execution": {
     "iopub.execute_input": "2021-08-15T16:34:39.580390Z",
     "iopub.status.busy": "2021-08-15T16:34:39.579478Z",
     "iopub.status.idle": "2021-08-15T16:34:39.935418Z",
     "shell.execute_reply": "2021-08-15T16:34:39.935872Z",
     "shell.execute_reply.started": "2021-08-15T16:31:21.788658Z"
    },
    "papermill": {
     "duration": 0.391471,
     "end_time": "2021-08-15T16:34:39.936044",
     "exception": false,
     "start_time": "2021-08-15T16:34:39.544573",
     "status": "completed"
    },
    "tags": []
   },
   "outputs": [
    {
     "name": "stdout",
     "output_type": "stream",
     "text": [
      "Before Tokenize:  -- omg i cannot believe jay leno is going off the air i hate conan <-empu o'brian <-empu\n",
      "After Tokenize:  ['--', 'omg', 'i', 'cannot', 'believe', 'jay', 'leno', 'is', 'going', 'off', 'the', 'air', 'i', 'hate', 'conan', '<-empu', 'o', \"'\", 'brian', '<-empu']\n"
     ]
    },
    {
     "data": {
      "application/vnd.jupyter.widget-view+json": {
       "model_id": "46e3de4ad9564c11becf932e752b0f81",
       "version_major": 2,
       "version_minor": 0
      },
      "text/plain": [
       "  0%|          | 0/30500 [00:00<?, ?it/s]"
      ]
     },
     "metadata": {},
     "output_type": "display_data"
    },
    {
     "data": {
      "application/vnd.jupyter.widget-view+json": {
       "model_id": "641d587220f84cb29f53766daf306553",
       "version_major": 2,
       "version_minor": 0
      },
      "text/plain": [
       "  0%|          | 0/7625 [00:00<?, ?it/s]"
      ]
     },
     "metadata": {},
     "output_type": "display_data"
    }
   ],
   "source": [
    "tokenizer = get_tokenizer(\"basic_english\")\n",
    "\n",
    "print('Before Tokenize: ', x_train_text[1])\n",
    "print('After Tokenize: ', tokenizer(x_train_text[1]))\n",
    "x_train_token = [tokenizer(s) for s in tqdm(x_train_text)]\n",
    "x_test_token = [tokenizer(s) for s in tqdm(x_test_text)]"
   ]
  },
  {
   "cell_type": "code",
   "execution_count": 12,
   "id": "ff53a1b1",
   "metadata": {
    "execution": {
     "iopub.execute_input": "2021-08-15T16:34:40.022809Z",
     "iopub.status.busy": "2021-08-15T16:34:40.017676Z",
     "iopub.status.idle": "2021-08-15T16:34:40.100948Z",
     "shell.execute_reply": "2021-08-15T16:34:40.100475Z",
     "shell.execute_reply.started": "2021-08-15T16:31:22.200030Z"
    },
    "papermill": {
     "duration": 0.137395,
     "end_time": "2021-08-15T16:34:40.101074",
     "exception": false,
     "start_time": "2021-08-15T16:34:39.963679",
     "status": "completed"
    },
    "tags": []
   },
   "outputs": [
    {
     "name": "stdout",
     "output_type": "stream",
     "text": [
      "Number of different Tokens in our Dataset: 27357\n",
      "['.', 'i', '@men', '!', 'to', 'the', ',', 'a', 'is', 'it', 'and', 'my', 'you', 'not', '?', 'am', 'in', 'for', 'have', 'that', 'of', 'on', 'me', '<-empp', 'so', \"'\", '<-empu', 'but', 'are', '<-empw', 'do', 'just', 'day', 'with', 'was', 'be', 'at', 'all', 'good', 'now', 'this', 'out', 'going', 'up', 's', 'we', 'get', '-url-', 'like', 'no', 'got', 'has', '-', 'go', 'will', 'too', 'today', 'your', 'love', 'work', 'happy', 'cannot', 'what', 'had', 'from', 'lol', 'time', 'one', 'back', 'did', 'know', 'or', 'want', 'u', 'there', 'about', 'really', 'shall', 'see', 'can', 'he', 'they', 'if', 'some', '(', 'night', 'well', 'how', ')', '&quot', 'new', 'home', 'think', 'when', 'as', 'thanks', 'oh', 'much', 'still', 'off']\n"
     ]
    }
   ],
   "source": [
    "words = Counter()\n",
    "for s in x_train_token:\n",
    "    for w in s:\n",
    "        words[w] += 1\n",
    "\n",
    "sorted_words = list(words.keys())\n",
    "sorted_words.sort(key=lambda w: words[w], reverse=True)\n",
    "print(f\"Number of different Tokens in our Dataset: {len(sorted_words)}\")\n",
    "print(sorted_words[:100])"
   ]
  },
  {
   "cell_type": "code",
   "execution_count": 13,
   "id": "e3888a46",
   "metadata": {
    "execution": {
     "iopub.execute_input": "2021-08-15T16:34:40.177041Z",
     "iopub.status.busy": "2021-08-15T16:34:40.176171Z",
     "iopub.status.idle": "2021-08-15T16:34:40.508299Z",
     "shell.execute_reply": "2021-08-15T16:34:40.508800Z",
     "shell.execute_reply.started": "2021-08-15T16:31:22.314550Z"
    },
    "papermill": {
     "duration": 0.381013,
     "end_time": "2021-08-15T16:34:40.508967",
     "exception": false,
     "start_time": "2021-08-15T16:34:40.127954",
     "status": "completed"
    },
    "tags": []
   },
   "outputs": [
    {
     "name": "stdout",
     "output_type": "stream",
     "text": [
      "The 2.090872537193406% most common words account for the 80.0096368723392% of the occurrences\n"
     ]
    },
    {
     "data": {
      "image/png": "[encoded data removed]",
      "text/plain": [
       "<Figure size 432x288 with 1 Axes>"
      ]
     },
     "metadata": {
      "needs_background": "light"
     },
     "output_type": "display_data"
    }
   ],
   "source": [
    "count_occurences = sum(words.values())\n",
    "\n",
    "accumulated = 0\n",
    "counter = 0\n",
    "\n",
    "while accumulated < count_occurences * 0.8:\n",
    "  accumulated += words[sorted_words[counter]]\n",
    "  counter += 1\n",
    "\n",
    "print(f\"The {counter * 100 / len(words)}% most common words \"\n",
    "      f\"account for the {accumulated * 100 / count_occurences}% of the occurrences\")\n",
    "plt.bar(range(100), [words[w] for w in sorted_words[:100]])\n",
    "plt.show()"
   ]
  },
  {
   "cell_type": "code",
   "execution_count": 14,
   "id": "ce043205",
   "metadata": {
    "execution": {
     "iopub.execute_input": "2021-08-15T16:34:40.570440Z",
     "iopub.status.busy": "2021-08-15T16:34:40.569691Z",
     "iopub.status.idle": "2021-08-15T16:34:40.571996Z",
     "shell.execute_reply": "2021-08-15T16:34:40.572389Z",
     "shell.execute_reply.started": "2021-08-15T16:31:22.864931Z"
    },
    "papermill": {
     "duration": 0.034456,
     "end_time": "2021-08-15T16:34:40.572527",
     "exception": false,
     "start_time": "2021-08-15T16:34:40.538071",
     "status": "completed"
    },
    "tags": []
   },
   "outputs": [],
   "source": [
    "num_words_dict = 30000\n",
    "# We reserve two numbers for special tokens.\n",
    "most_used_words = sorted_words[:num_words_dict-2]"
   ]
  },
  {
   "cell_type": "code",
   "execution_count": 15,
   "id": "59bcf39f",
   "metadata": {
    "execution": {
     "iopub.execute_input": "2021-08-15T16:34:40.654605Z",
     "iopub.status.busy": "2021-08-15T16:34:40.653652Z",
     "iopub.status.idle": "2021-08-15T16:34:40.656063Z",
     "shell.execute_reply": "2021-08-15T16:34:40.656635Z",
     "shell.execute_reply.started": "2021-08-15T16:31:22.874489Z"
    },
    "papermill": {
     "duration": 0.057315,
     "end_time": "2021-08-15T16:34:40.656795",
     "exception": false,
     "start_time": "2021-08-15T16:34:40.599480",
     "status": "completed"
    },
    "tags": []
   },
   "outputs": [],
   "source": [
    "# dictionary to go from words to idx \n",
    "word_to_idx = {}\n",
    "# dictionary to go from idx to words (just in case) \n",
    "idx_to_word = {}\n",
    "\n",
    "\n",
    "# We include the special tokens first\n",
    "PAD_token = 0   \n",
    "UNK_token = 1\n",
    "\n",
    "word_to_idx['PAD'] = PAD_token\n",
    "word_to_idx['UNK'] = UNK_token\n",
    "\n",
    "idx_to_word[PAD_token] = 'PAD'\n",
    "idx_to_word[UNK_token] = 'UNK'\n",
    "\n",
    "# We popullate our dictionaries with the most used words\n",
    "for num,word in enumerate(most_used_words):\n",
    "  word_to_idx[word] = num + 2\n",
    "  idx_to_word[num+2] = word"
   ]
  },
  {
   "cell_type": "code",
   "execution_count": 16,
   "id": "4da3d743",
   "metadata": {
    "execution": {
     "iopub.execute_input": "2021-08-15T16:34:40.725618Z",
     "iopub.status.busy": "2021-08-15T16:34:40.724638Z",
     "iopub.status.idle": "2021-08-15T16:34:40.727219Z",
     "shell.execute_reply": "2021-08-15T16:34:40.727605Z",
     "shell.execute_reply.started": "2021-08-15T16:31:22.908284Z"
    },
    "papermill": {
     "duration": 0.039681,
     "end_time": "2021-08-15T16:34:40.727747",
     "exception": false,
     "start_time": "2021-08-15T16:34:40.688066",
     "status": "completed"
    },
    "tags": []
   },
   "outputs": [],
   "source": [
    "# A function to convert list of tokens to list of indexes\n",
    "def tokens_to_idx(sentences_tokens,word_to_idx):\n",
    "  sentences_idx = []\n",
    "  for sent in sentences_tokens:\n",
    "    sent_idx = []\n",
    "    for word in sent:\n",
    "      if word in word_to_idx:\n",
    "        sent_idx.append(word_to_idx[word])\n",
    "      else:\n",
    "        sent_idx.append(word_to_idx['UNK'])\n",
    "    sentences_idx.append(sent_idx)\n",
    "  return sentences_idx"
   ]
  },
  {
   "cell_type": "code",
   "execution_count": 17,
   "id": "32079422",
   "metadata": {
    "execution": {
     "iopub.execute_input": "2021-08-15T16:34:40.829150Z",
     "iopub.status.busy": "2021-08-15T16:34:40.812867Z",
     "iopub.status.idle": "2021-08-15T16:34:40.869536Z",
     "shell.execute_reply": "2021-08-15T16:34:40.870018Z",
     "shell.execute_reply.started": "2021-08-15T16:31:22.919634Z"
    },
    "papermill": {
     "duration": 0.114185,
     "end_time": "2021-08-15T16:34:40.870207",
     "exception": false,
     "start_time": "2021-08-15T16:34:40.756022",
     "status": "completed"
    },
    "tags": []
   },
   "outputs": [],
   "source": [
    "x_train_idx = tokens_to_idx(x_train_token,word_to_idx)\n",
    "x_test_idx = tokens_to_idx(x_test_token,word_to_idx)"
   ]
  },
  {
   "cell_type": "code",
   "execution_count": 18,
   "id": "cec3d2e7",
   "metadata": {
    "execution": {
     "iopub.execute_input": "2021-08-15T16:34:40.933995Z",
     "iopub.status.busy": "2021-08-15T16:34:40.933321Z",
     "iopub.status.idle": "2021-08-15T16:34:40.936906Z",
     "shell.execute_reply": "2021-08-15T16:34:40.937496Z",
     "shell.execute_reply.started": "2021-08-15T16:31:23.014077Z"
    },
    "papermill": {
     "duration": 0.037794,
     "end_time": "2021-08-15T16:34:40.937674",
     "exception": false,
     "start_time": "2021-08-15T16:34:40.899880",
     "status": "completed"
    },
    "tags": []
   },
   "outputs": [
    {
     "name": "stdout",
     "output_type": "stream",
     "text": [
      "Before converting:  ['--', 'omg', 'i', 'cannot', 'believe', 'jay', 'leno', 'is', 'going', 'off', 'the', 'air', 'i', 'hate', 'conan', '<-empu', 'o', \"'\", 'brian', '<-empu']\n",
      "After converting:  [777, 254, 3, 63, 376, 1165, 1422, 10, 44, 101, 7, 871, 3, 172, 4805, 28, 678, 27, 2575, 28]\n"
     ]
    }
   ],
   "source": [
    "some_number = 1\n",
    "print('Before converting: ', x_train_token[some_number])\n",
    "print('After converting: ', x_train_idx[some_number])"
   ]
  },
  {
   "cell_type": "code",
   "execution_count": 19,
   "id": "937e5cf3",
   "metadata": {
    "execution": {
     "iopub.execute_input": "2021-08-15T16:34:41.003791Z",
     "iopub.status.busy": "2021-08-15T16:34:41.003230Z",
     "iopub.status.idle": "2021-08-15T16:34:41.010860Z",
     "shell.execute_reply": "2021-08-15T16:34:41.010166Z",
     "shell.execute_reply.started": "2021-08-15T16:31:23.025078Z"
    },
    "papermill": {
     "duration": 0.043684,
     "end_time": "2021-08-15T16:34:41.011034",
     "exception": false,
     "start_time": "2021-08-15T16:34:40.967350",
     "status": "completed"
    },
    "tags": []
   },
   "outputs": [
    {
     "name": "stdout",
     "output_type": "stream",
     "text": [
      "Max tweet word length:  84\n",
      "Mean tweet word length:  15.0\n",
      "99% percent under:  37.0\n"
     ]
    }
   ],
   "source": [
    "tweet_lens = np.asarray([len(sentence) for sentence in x_train_idx])\n",
    "print('Max tweet word length: ',tweet_lens.max())\n",
    "print('Mean tweet word length: ',np.median(tweet_lens))\n",
    "print('99% percent under: ',np.quantile(tweet_lens,0.99))"
   ]
  },
  {
   "cell_type": "code",
   "execution_count": 21,
   "id": "bc6a23db",
   "metadata": {
    "execution": {
     "iopub.execute_input": "2021-08-15T16:34:41.083631Z",
     "iopub.status.busy": "2021-08-15T16:34:41.082613Z",
     "iopub.status.idle": "2021-08-15T16:34:41.085571Z",
     "shell.execute_reply": "2021-08-15T16:34:41.085042Z",
     "shell.execute_reply.started": "2021-08-15T16:31:23.046021Z"
    },
    "papermill": {
     "duration": 0.041274,
     "end_time": "2021-08-15T16:34:41.085697",
     "exception": false,
     "start_time": "2021-08-15T16:34:41.044423",
     "status": "completed"
    },
    "tags": []
   },
   "outputs": [],
   "source": [
    "# We choose the max length\n",
    "max_length = 87\n",
    "\n",
    "# A function to make all the sequence have the same lenght\n",
    "# Note that the output is a Numpy matrix\n",
    "def padding(sentences, seq_len):\n",
    "    features = np.zeros((len(sentences), seq_len),dtype=int)\n",
    "    for ii, tweet in enumerate(sentences):\n",
    "        len_tweet = len(tweet) \n",
    "        if len_tweet != 0:\n",
    "            if len_tweet <= seq_len:\n",
    "        # If its shorter, we fill with zeros (the padding Token index)\n",
    "                features[ii, -len(tweet):] = np.array(tweet)[:seq_len]\n",
    "            if len_tweet > seq_len:\n",
    "        # If its larger, we take the last 'seq_len' indexes\n",
    "                features[ii, :] = np.array(tweet)[-seq_len:]\n",
    "    return features"
   ]
  },
  {
   "cell_type": "code",
   "execution_count": 22,
   "id": "dcf947db",
   "metadata": {
    "execution": {
     "iopub.execute_input": "2021-08-15T16:34:41.150626Z",
     "iopub.status.busy": "2021-08-15T16:34:41.149670Z",
     "iopub.status.idle": "2021-08-15T16:34:41.272164Z",
     "shell.execute_reply": "2021-08-15T16:34:41.272616Z",
     "shell.execute_reply.started": "2021-08-15T16:31:23.059409Z"
    },
    "papermill": {
     "duration": 0.156468,
     "end_time": "2021-08-15T16:34:41.272791",
     "exception": false,
     "start_time": "2021-08-15T16:34:41.116323",
     "status": "completed"
    },
    "tags": []
   },
   "outputs": [],
   "source": [
    "# We convert our list of tokens into a numpy matrix\n",
    "# where all instances have the same lenght\n",
    "x_train_pad = padding(x_train_idx,max_length)\n",
    "x_test_pad = padding(x_test_idx,max_length)\n",
    "\n",
    "# We convert our target list a numpy matrix\n",
    "y_train_np = np.asarray(y_train)\n",
    "y_test_np = np.asarray(y_test)"
   ]
  },
  {
   "cell_type": "code",
   "execution_count": 23,
   "id": "e54df91f",
   "metadata": {
    "execution": {
     "iopub.execute_input": "2021-08-15T16:34:41.340296Z",
     "iopub.status.busy": "2021-08-15T16:34:41.339193Z",
     "iopub.status.idle": "2021-08-15T16:34:41.343483Z",
     "shell.execute_reply": "2021-08-15T16:34:41.344064Z",
     "shell.execute_reply.started": "2021-08-15T16:31:23.205199Z"
    },
    "papermill": {
     "duration": 0.040104,
     "end_time": "2021-08-15T16:34:41.344258",
     "exception": false,
     "start_time": "2021-08-15T16:34:41.304154",
     "status": "completed"
    },
    "tags": []
   },
   "outputs": [
    {
     "name": "stdout",
     "output_type": "stream",
     "text": [
      "Before padding:  [4, 581, 10, 3, 20, 6, 48, 11, 187, 42, 150, 69, 145, 73, 229, 2]\n",
      "After padding:  [  0   0   0   0   0   0   0   0   0   0   0   0   0   0   0   0   0   0\n",
      "   0   0   0   0   0   0   0   0   0   0   0   0   0   0   0   0   0   0\n",
      "   0   0   0   0   0   0   0   0   0   0   0   0   0   0   0   0   0   0\n",
      "   0   0   0   0   0   0   0   0   0   0   0   0   0   0   0   0   0   4\n",
      " 581  10   3  20   6  48  11 187  42 150  69 145  73 229   2]\n"
     ]
    }
   ],
   "source": [
    "some_number = 3\n",
    "print('Before padding: ', x_train_idx[some_number])\n",
    "print('After padding: ', x_train_pad[some_number])"
   ]
  },
  {
   "cell_type": "markdown",
   "id": "33526514",
   "metadata": {
    "papermill": {
     "duration": 0.029481,
     "end_time": "2021-08-15T16:34:41.403813",
     "exception": false,
     "start_time": "2021-08-15T16:34:41.374332",
     "status": "completed"
    },
    "tags": []
   },
   "source": [
    "# Define dataloader and model"
   ]
  },
  {
   "cell_type": "code",
   "execution_count": 24,
   "id": "f1ba51a7",
   "metadata": {
    "execution": {
     "iopub.execute_input": "2021-08-15T16:34:41.479809Z",
     "iopub.status.busy": "2021-08-15T16:34:41.478876Z",
     "iopub.status.idle": "2021-08-15T16:34:41.481198Z",
     "shell.execute_reply": "2021-08-15T16:34:41.481745Z",
     "shell.execute_reply.started": "2021-08-15T16:31:23.221029Z"
    },
    "papermill": {
     "duration": 0.048463,
     "end_time": "2021-08-15T16:34:41.481898",
     "exception": false,
     "start_time": "2021-08-15T16:34:41.433435",
     "status": "completed"
    },
    "tags": []
   },
   "outputs": [],
   "source": [
    "# create Tensor datasets\n",
    "train_data = TensorDataset(torch.from_numpy(x_train_pad), torch.from_numpy(y_train_np))\n",
    "test_data = TensorDataset(torch.from_numpy(x_test_pad), torch.from_numpy(y_test_np))\n",
    "\n",
    "# Batch size (this is an important hyperparameter)\n",
    "batch_size = 100\n",
    "\n",
    "# dataloaders\n",
    "# make sure to SHUFFLE your data\n",
    "train_loader = DataLoader(train_data, shuffle=True, batch_size=batch_size, drop_last = True)\n",
    "test_loader = DataLoader(test_data, shuffle=True, batch_size=batch_size, drop_last = True)"
   ]
  },
  {
   "cell_type": "code",
   "execution_count": 25,
   "id": "0d188e02",
   "metadata": {
    "execution": {
     "iopub.execute_input": "2021-08-15T16:34:41.550391Z",
     "iopub.status.busy": "2021-08-15T16:34:41.549673Z",
     "iopub.status.idle": "2021-08-15T16:34:41.579831Z",
     "shell.execute_reply": "2021-08-15T16:34:41.580386Z",
     "shell.execute_reply.started": "2021-08-15T16:31:23.231697Z"
    },
    "papermill": {
     "duration": 0.068855,
     "end_time": "2021-08-15T16:34:41.580568",
     "exception": false,
     "start_time": "2021-08-15T16:34:41.511713",
     "status": "completed"
    },
    "tags": []
   },
   "outputs": [
    {
     "name": "stdout",
     "output_type": "stream",
     "text": [
      "x size:  torch.Size([100, 87]) Y size torch.Size([100])\n"
     ]
    }
   ],
   "source": [
    "# Obtain one batch of training data\n",
    "dataiter = iter(train_loader)\n",
    "sample_x, sample_y = dataiter.next()\n",
    "\n",
    "print('x size: ', sample_x.size(), 'Y size', sample_y.size()) # batch_size, seq_length\n",
    "# print('Sample input: \\n', sample_x)\n",
    "# print('Sample output: \\n', sample_y)"
   ]
  },
  {
   "cell_type": "code",
   "execution_count": 26,
   "id": "d9ffaa66",
   "metadata": {
    "execution": {
     "iopub.execute_input": "2021-08-15T16:34:41.652546Z",
     "iopub.status.busy": "2021-08-15T16:34:41.651512Z",
     "iopub.status.idle": "2021-08-15T16:34:41.654502Z",
     "shell.execute_reply": "2021-08-15T16:34:41.653984Z",
     "shell.execute_reply.started": "2021-08-15T16:32:25.031415Z"
    },
    "papermill": {
     "duration": 0.044522,
     "end_time": "2021-08-15T16:34:41.654632",
     "exception": false,
     "start_time": "2021-08-15T16:34:41.610110",
     "status": "completed"
    },
    "tags": []
   },
   "outputs": [],
   "source": [
    "class SentimentRNN(nn.Module):\n",
    "    def __init__(self, no_layers, vocab_size, hidden_dim, embedding_dim, output_dim, drop_prob=0.55):\n",
    "        super(SentimentRNN, self).__init__()\n",
    "\n",
    "        self.hidden_dim = hidden_dim\n",
    "        self.no_layers = no_layers\n",
    "\n",
    "        # Embedding Layer\n",
    "        self.embedding = nn.Embedding(vocab_size, embedding_dim)\n",
    "\n",
    "        # LSTM Layers\n",
    "        self.lstm = nn.LSTM(input_size=embedding_dim,\n",
    "                            hidden_size=hidden_dim,\n",
    "                            num_layers=no_layers, \n",
    "                            batch_first=True, \n",
    "                            dropout=drop_prob,\n",
    "                            bidirectional=True\n",
    "                            )\n",
    "                                  \n",
    "\n",
    "        # Dropout layer\n",
    "        self.dropout = nn.Dropout(drop_prob)\n",
    "\n",
    "        # Linear and Sigmoid layer\n",
    "        # why not no_layers*hidden_dim? and for biLSTM x2?\n",
    "        self.fc = nn.Linear(2*hidden_dim, output_dim)\n",
    "#         self.sig = nn.Sigmoid()\n",
    "    \n",
    "    def forward(self, x, hidden):\n",
    "        batch_size = x.size(0)\n",
    "\n",
    "        # Embedding out\n",
    "        embeds = self.embedding(x)\n",
    "        #Shape: [batch_size x max_length x embedding_dim]\n",
    "\n",
    "        # LSTM out\n",
    "        lstm_out, hidden = self.lstm(embeds, hidden)\n",
    "        # Shape: [batch_size x max_length x hidden_dim]\n",
    "\n",
    "        # Select the activation of the last Hidden Layer\n",
    "        lstm_out = lstm_out[:,-1,:].contiguous()\n",
    "        # Shape: [batch_size x hidden_dim]\n",
    "\n",
    "         ## You can instead average the activations across all the times\n",
    "        # lstm_out = torch.mean(lstm_out, 1).contiguous()\n",
    "\n",
    "        # Dropout and Fully connected layer\n",
    "        out = self.dropout(lstm_out)\n",
    "        out = self.fc(out)\n",
    "\n",
    "        # Sigmoid function\n",
    "#         sig_out = self.sig(out)\n",
    "\n",
    "        # return last sigmoid output and hidden state\n",
    "        return out, hidden\n",
    "\n",
    "    def init_hidden(self, batch_size):\n",
    "        ''' Initializes hidden state '''\n",
    "        # Create two new tensors with sizes n_layers x batch_size x hidden_dim,\n",
    "        # initialized to zero, for hidden state and cell state of LSTM\n",
    "        #random initialization is better, i think \n",
    "        h0 = torch.randn((2*self.no_layers, batch_size, self.hidden_dim)).to(device)\n",
    "        c0 = torch.randn((2*self.no_layers, batch_size, self.hidden_dim)).to(device)\n",
    "        hidden = (h0, c0)\n",
    "        return hidden\n"
   ]
  },
  {
   "cell_type": "code",
   "execution_count": 27,
   "id": "41bdb26c",
   "metadata": {
    "execution": {
     "iopub.execute_input": "2021-08-15T16:34:41.724843Z",
     "iopub.status.busy": "2021-08-15T16:34:41.724008Z",
     "iopub.status.idle": "2021-08-15T16:34:46.634145Z",
     "shell.execute_reply": "2021-08-15T16:34:46.633247Z",
     "shell.execute_reply.started": "2021-08-15T16:32:25.049145Z"
    },
    "papermill": {
     "duration": 4.947334,
     "end_time": "2021-08-15T16:34:46.634284",
     "exception": false,
     "start_time": "2021-08-15T16:34:41.686950",
     "status": "completed"
    },
    "tags": []
   },
   "outputs": [
    {
     "name": "stdout",
     "output_type": "stream",
     "text": [
      "SentimentRNN(\n",
      "  (embedding): Embedding(30000, 32)\n",
      "  (lstm): LSTM(32, 64, num_layers=3, batch_first=True, dropout=0.55, bidirectional=True)\n",
      "  (dropout): Dropout(p=0.55, inplace=False)\n",
      "  (fc): Linear(in_features=128, out_features=9, bias=True)\n",
      ")\n"
     ]
    }
   ],
   "source": [
    "# Let's define our model\n",
    "model = SentimentRNN(no_layers=3,\n",
    "                     vocab_size=num_words_dict, # 43800 dictionary\n",
    "                     hidden_dim=64,\n",
    "                     embedding_dim=32,\n",
    "                     output_dim=LEN_CLASSES,    # 13 classes\n",
    "                     drop_prob=0.55\n",
    "                    )\n",
    "\n",
    "\n",
    "# Moving to gpu\n",
    "model.to(device)\n",
    "print(model)"
   ]
  },
  {
   "cell_type": "code",
   "execution_count": 28,
   "id": "e027cf6d",
   "metadata": {
    "execution": {
     "iopub.execute_input": "2021-08-15T16:34:46.703434Z",
     "iopub.status.busy": "2021-08-15T16:34:46.702707Z",
     "iopub.status.idle": "2021-08-15T16:34:46.705923Z",
     "shell.execute_reply": "2021-08-15T16:34:46.706604Z",
     "shell.execute_reply.started": "2021-08-15T16:32:25.091660Z"
    },
    "papermill": {
     "duration": 0.04228,
     "end_time": "2021-08-15T16:34:46.706789",
     "exception": false,
     "start_time": "2021-08-15T16:34:46.664509",
     "status": "completed"
    },
    "tags": []
   },
   "outputs": [
    {
     "name": "stdout",
     "output_type": "stream",
     "text": [
      "Total Number of parameters:  1209993\n"
     ]
    }
   ],
   "source": [
    "# How many trainable parameters does our model have?\n",
    "model_parameters = filter(lambda p: p.requires_grad, model.parameters())\n",
    "params = sum([np.prod(p.size()) for p in model_parameters])\n",
    "print('Total Number of parameters: ',params)"
   ]
  },
  {
   "cell_type": "code",
   "execution_count": 29,
   "id": "4f8f64da",
   "metadata": {
    "execution": {
     "iopub.execute_input": "2021-08-15T16:34:46.771733Z",
     "iopub.status.busy": "2021-08-15T16:34:46.770994Z",
     "iopub.status.idle": "2021-08-15T16:34:46.773820Z",
     "shell.execute_reply": "2021-08-15T16:34:46.773408Z",
     "shell.execute_reply.started": "2021-08-15T16:32:25.103192Z"
    },
    "papermill": {
     "duration": 0.03661,
     "end_time": "2021-08-15T16:34:46.773925",
     "exception": false,
     "start_time": "2021-08-15T16:34:46.737315",
     "status": "completed"
    },
    "tags": []
   },
   "outputs": [],
   "source": [
    "# loss and optimization functions\n",
    "lr = 0.0001\n",
    "\n",
    "criterion = nn.CrossEntropyLoss().to(device)\n",
    "\n",
    "# We choose an Adam optimizer\n",
    "optimizer = torch.optim.Adam(model.parameters(), lr=lr)\n",
    "\n",
    "# function to predict accuracy\n",
    "def acc(pred, labels):\n",
    "    pred = torch.argmax(pred, dim=1)\n",
    "#     labels = torch.argmax(labels, dim=1)\n",
    "    return torch.sum((pred == labels).float())"
   ]
  },
  {
   "cell_type": "code",
   "execution_count": 33,
   "id": "boring-short",
   "metadata": {},
   "outputs": [
    {
     "name": "stdout",
     "output_type": "stream",
     "text": [
      "[name: \"/device:CPU:0\"\n",
      "device_type: \"CPU\"\n",
      "memory_limit: 268435456\n",
      "locality {\n",
      "}\n",
      "incarnation: 14943635588659700798\n",
      "]\n"
     ]
    }
   ],
   "source": [
    "import tensorflow as tf\n",
    "from tensorflow.python.client import device_lib \n",
    "print(device_lib.list_local_devices())"
   ]
  },
  {
   "cell_type": "code",
   "execution_count": 34,
   "id": "global-penalty",
   "metadata": {},
   "outputs": [
    {
     "name": "stdout",
     "output_type": "stream",
     "text": [
      "Executing op MatMul in device /job:localhost/replica:0/task:0/device:CPU:0\n",
      "tf.Tensor(\n",
      "[[22. 28.]\n",
      " [49. 64.]], shape=(2, 2), dtype=float32)\n"
     ]
    }
   ],
   "source": [
    "tf.debugging.set_log_device_placement(True)\n",
    "\n",
    "# Create some tensors\n",
    "a = tf.constant([[1.0, 2.0, 3.0], [4.0, 5.0, 6.0]])\n",
    "b = tf.constant([[1.0, 2.0], [3.0, 4.0], [5.0, 6.0]])\n",
    "c = tf.matmul(a, b)\n",
    "\n",
    "print(c)"
   ]
  },
  {
   "cell_type": "code",
   "execution_count": null,
   "id": "blocked-album",
   "metadata": {},
   "outputs": [],
   "source": []
  },
  {
   "cell_type": "code",
   "execution_count": null,
   "id": "96e7c27f",
   "metadata": {
    "execution": {
     "iopub.execute_input": "2021-08-15T16:34:46.853183Z",
     "iopub.status.busy": "2021-08-15T16:34:46.850979Z",
     "iopub.status.idle": "2021-08-15T16:40:58.292961Z",
     "shell.execute_reply": "2021-08-15T16:40:58.292313Z",
     "shell.execute_reply.started": "2021-08-15T16:32:25.115686Z"
    },
    "papermill": {
     "duration": 371.487383,
     "end_time": "2021-08-15T16:40:58.293145",
     "exception": false,
     "start_time": "2021-08-15T16:34:46.805762",
     "status": "completed"
    },
    "tags": []
   },
   "outputs": [
    {
     "name": "stdout",
     "output_type": "stream",
     "text": [
      "Epoch 1\n",
      "train_loss : 1.9165576454068793 val_loss : 1.9105507621639652\n",
      "train_accuracy : 29.547542572021484 val_accuracy : 29.521310806274414\n",
      "Validation loss decreased (inf --> 1.910551).  Saving model ...\n",
      "==================================================\n",
      "Epoch 2\n",
      "train_loss : 1.9075394341203034 val_loss : 1.8999784290790558\n",
      "train_accuracy : 30.31803321838379 val_accuracy : 29.613113403320312\n",
      "Validation loss decreased (1.910551 --> 1.899978).  Saving model ...\n",
      "==================================================\n",
      "Epoch 3\n",
      "train_loss : 1.9001301714631378 val_loss : 1.896467924118042\n",
      "train_accuracy : 30.560653686523438 val_accuracy : 30.203279495239258\n",
      "Validation loss decreased (1.899978 --> 1.896468).  Saving model ...\n",
      "==================================================\n",
      "Epoch 4\n",
      "train_loss : 1.8907057359570363 val_loss : 1.8926154218221967\n",
      "train_accuracy : 31.275409698486328 val_accuracy : 30.465572357177734\n",
      "Validation loss decreased (1.896468 --> 1.892615).  Saving model ...\n",
      "==================================================\n",
      "Epoch 5\n",
      "train_loss : 1.8822385995114437 val_loss : 1.8865747216500734\n",
      "train_accuracy : 31.413114547729492 val_accuracy : 31.200000762939453\n",
      "Validation loss decreased (1.892615 --> 1.886575).  Saving model ...\n",
      "==================================================\n",
      "Epoch 6\n",
      "train_loss : 1.876023675574631 val_loss : 1.8783982835317914\n",
      "train_accuracy : 31.914752960205078 val_accuracy : 31.21311378479004\n",
      "Validation loss decreased (1.886575 --> 1.878398).  Saving model ...\n",
      "==================================================\n",
      "Epoch 7\n",
      "train_loss : 1.8675431618925 val_loss : 1.8751819808232157\n",
      "train_accuracy : 31.826231002807617 val_accuracy : 31.357378005981445\n",
      "Validation loss decreased (1.878398 --> 1.875182).  Saving model ...\n",
      "==================================================\n",
      "Epoch 8\n",
      "train_loss : 1.8603089684345684 val_loss : 1.8788648388887708\n",
      "train_accuracy : 32.668853759765625 val_accuracy : 31.357378005981445\n",
      "==================================================\n",
      "Epoch 9\n",
      "train_loss : 1.8577924247647895 val_loss : 1.8706187982308238\n",
      "train_accuracy : 32.554100036621094 val_accuracy : 31.606557846069336\n",
      "Validation loss decreased (1.875182 --> 1.870619).  Saving model ...\n",
      "==================================================\n",
      "Epoch 10\n",
      "train_loss : 1.8522454828512473 val_loss : 1.865603451666079\n",
      "train_accuracy : 32.97705078125 val_accuracy : 31.92131233215332\n",
      "Validation loss decreased (1.870619 --> 1.865603).  Saving model ...\n",
      "==================================================\n",
      "Epoch 11\n",
      "train_loss : 1.8466462002425896 val_loss : 1.8653946989460994\n",
      "train_accuracy : 33.193443298339844 val_accuracy : 31.73770523071289\n",
      "Validation loss decreased (1.865603 --> 1.865395).  Saving model ...\n",
      "==================================================\n",
      "Epoch 12\n",
      "train_loss : 1.839513554729399 val_loss : 1.8571098807610964\n",
      "train_accuracy : 33.50819778442383 val_accuracy : 32.2098388671875\n",
      "Validation loss decreased (1.865395 --> 1.857110).  Saving model ...\n",
      "==================================================\n",
      "Epoch 13\n",
      "train_loss : 1.8313749657302607 val_loss : 1.8639688695731915\n",
      "train_accuracy : 34.00983428955078 val_accuracy : 31.698360443115234\n",
      "==================================================\n",
      "Epoch 14\n",
      "train_loss : 1.8293907345318403 val_loss : 1.8605049974039982\n",
      "train_accuracy : 34.02622985839844 val_accuracy : 32.36721420288086\n",
      "==================================================\n",
      "Epoch 15\n",
      "train_loss : 1.8252557434019496 val_loss : 1.8527053876927024\n",
      "train_accuracy : 34.272132873535156 val_accuracy : 32.07868957519531\n",
      "Validation loss decreased (1.857110 --> 1.852705).  Saving model ...\n",
      "==================================================\n",
      "Epoch 16\n",
      "train_loss : 1.8193626098945492 val_loss : 1.8601058203923075\n",
      "train_accuracy : 34.49508285522461 val_accuracy : 32.40655517578125\n",
      "==================================================\n",
      "Epoch 17\n",
      "train_loss : 1.8143097553096834 val_loss : 1.8524518593361503\n",
      "train_accuracy : 34.66229248046875 val_accuracy : 32.53770446777344\n",
      "Validation loss decreased (1.852705 --> 1.852452).  Saving model ...\n",
      "==================================================\n",
      "Epoch 18\n",
      "train_loss : 1.8087799611638804 val_loss : 1.8498899842563428\n",
      "train_accuracy : 34.99016571044922 val_accuracy : 32.94426345825195\n",
      "Validation loss decreased (1.852452 --> 1.849890).  Saving model ...\n",
      "==================================================\n",
      "Epoch 19\n",
      "train_loss : 1.8078066180963985 val_loss : 1.8494117887396562\n",
      "train_accuracy : 35.12131118774414 val_accuracy : 32.68196487426758\n",
      "Validation loss decreased (1.849890 --> 1.849412).  Saving model ...\n",
      "==================================================\n",
      "Epoch 20\n",
      "train_loss : 1.8003989895836252 val_loss : 1.849572241306305\n",
      "train_accuracy : 35.40983581542969 val_accuracy : 32.472129821777344\n",
      "==================================================\n",
      "Epoch 21\n",
      "train_loss : 1.796537175725718 val_loss : 1.8445823255338167\n",
      "train_accuracy : 35.56721115112305 val_accuracy : 32.826229095458984\n",
      "Validation loss decreased (1.849412 --> 1.844582).  Saving model ...\n",
      "==================================================\n",
      "Epoch 22\n",
      "train_loss : 1.7933643704555073 val_loss : 1.8418625404960232\n",
      "train_accuracy : 35.57377243041992 val_accuracy : 33.10163879394531\n",
      "Validation loss decreased (1.844582 --> 1.841863).  Saving model ...\n",
      "==================================================\n",
      "Epoch 23\n",
      "train_loss : 1.7852618248736272 val_loss : 1.8451425213562815\n",
      "train_accuracy : 35.90819549560547 val_accuracy : 32.99671936035156\n",
      "==================================================\n",
      "Epoch 24\n",
      "train_loss : 1.7804961435130384 val_loss : 1.8440224245974892\n",
      "train_accuracy : 35.99671936035156 val_accuracy : 33.075408935546875\n",
      "==================================================\n",
      "Epoch 25\n",
      "train_loss : 1.7767353096946341 val_loss : 1.8442422653499402\n",
      "train_accuracy : 36.06885528564453 val_accuracy : 32.89180374145508\n",
      "==================================================\n",
      "Epoch 26\n",
      "train_loss : 1.7706099576637393 val_loss : 1.835188859387448\n",
      "train_accuracy : 36.580326080322266 val_accuracy : 33.48196792602539\n",
      "Validation loss decreased (1.841863 --> 1.835189).  Saving model ...\n",
      "==================================================\n",
      "Epoch 27\n",
      "train_loss : 1.7687655429371067 val_loss : 1.835444522531409\n",
      "train_accuracy : 36.767215728759766 val_accuracy : 33.429508209228516\n",
      "==================================================\n",
      "Epoch 28\n",
      "train_loss : 1.761672926730797 val_loss : 1.842751338293678\n",
      "train_accuracy : 37.190162658691406 val_accuracy : 33.272132873535156\n",
      "==================================================\n",
      "Epoch 29\n",
      "train_loss : 1.75885600535596 val_loss : 1.836372778603905\n",
      "train_accuracy : 37.00983428955078 val_accuracy : 33.77049255371094\n",
      "==================================================\n",
      "Epoch 30\n",
      "train_loss : 1.7547083108151544 val_loss : 1.8340836904550855\n",
      "train_accuracy : 37.157379150390625 val_accuracy : 33.678688049316406\n",
      "Validation loss decreased (1.835189 --> 1.834084).  Saving model ...\n",
      "==================================================\n",
      "Epoch 31\n",
      "train_loss : 1.7495528154685849 val_loss : 1.8355293917028528\n",
      "train_accuracy : 37.43278503417969 val_accuracy : 34.05901336669922\n",
      "==================================================\n",
      "Epoch 32\n",
      "train_loss : 1.7423408398862745 val_loss : 1.840036883165962\n",
      "train_accuracy : 37.511478424072266 val_accuracy : 33.49508285522461\n",
      "==================================================\n",
      "Epoch 33\n",
      "train_loss : 1.737346836777984 val_loss : 1.828333473519275\n",
      "train_accuracy : 38.180328369140625 val_accuracy : 34.2557373046875\n",
      "Validation loss decreased (1.834084 --> 1.828333).  Saving model ...\n",
      "==================================================\n",
      "Epoch 34\n",
      "train_loss : 1.7349859194677384 val_loss : 1.8350927186639685\n",
      "train_accuracy : 37.977046966552734 val_accuracy : 34.22950744628906\n",
      "==================================================\n",
      "Epoch 35\n",
      "train_loss : 1.7287735352750684 val_loss : 1.8376908051340204\n",
      "train_accuracy : 38.22294998168945 val_accuracy : 33.901641845703125\n",
      "==================================================\n",
      "Epoch 36\n",
      "train_loss : 1.7274659180250325 val_loss : 1.827888016638003\n",
      "train_accuracy : 38.22294998168945 val_accuracy : 33.98032760620117\n",
      "Validation loss decreased (1.828333 --> 1.827888).  Saving model ...\n",
      "==================================================\n",
      "Epoch 37\n",
      "train_loss : 1.7225770868238857 val_loss : 1.8422086364344548\n",
      "train_accuracy : 38.36065673828125 val_accuracy : 34.216392517089844\n",
      "==================================================\n",
      "Epoch 38\n",
      "train_loss : 1.717677219187627 val_loss : 1.8340287694805546\n",
      "train_accuracy : 38.888526916503906 val_accuracy : 34.308197021484375\n",
      "==================================================\n",
      "Epoch 39\n",
      "train_loss : 1.7157558062037483 val_loss : 1.8317659544317346\n",
      "train_accuracy : 38.727867126464844 val_accuracy : 34.203277587890625\n",
      "==================================================\n",
      "Epoch 40\n",
      "train_loss : 1.7096413901594818 val_loss : 1.8381532069883848\n",
      "train_accuracy : 38.82295227050781 val_accuracy : 34.36065673828125\n",
      "==================================================\n",
      "Epoch 41\n",
      "train_loss : 1.7019401788711548 val_loss : 1.8394913375377655\n",
      "train_accuracy : 39.10491943359375 val_accuracy : 34.203277587890625\n",
      "==================================================\n",
      "Epoch 42\n",
      "train_loss : 1.7000094566188875 val_loss : 1.8412350557352368\n",
      "train_accuracy : 39.163936614990234 val_accuracy : 34.308197021484375\n",
      "==================================================\n",
      "Epoch 43\n",
      "train_loss : 1.6951795249688821 val_loss : 1.8448654021087445\n",
      "train_accuracy : 39.61639404296875 val_accuracy : 34.11147689819336\n",
      "==================================================\n",
      "Epoch 44\n",
      "train_loss : 1.6921776963061974 val_loss : 1.8474982239698108\n",
      "train_accuracy : 39.632789611816406 val_accuracy : 34.08524703979492\n",
      "==================================================\n",
      "Epoch 45\n",
      "train_loss : 1.6876171889852305 val_loss : 1.8544364430402454\n",
      "train_accuracy : 39.855735778808594 val_accuracy : 33.62622833251953\n",
      "==================================================\n",
      "Epoch 46\n",
      "train_loss : 1.683988576638894 val_loss : 1.8372182328450053\n",
      "train_accuracy : 39.691802978515625 val_accuracy : 34.51803207397461\n",
      "==================================================\n",
      "Epoch 47\n",
      "train_loss : 1.6802510499954224 val_loss : 1.8451811984965676\n",
      "train_accuracy : 39.94425964355469 val_accuracy : 34.203277587890625\n",
      "==================================================\n"
     ]
    }
   ],
   "source": [
    "# Number of training Epochs\n",
    "epochs = 50\n",
    "# Maximum absolute value accepted for the gradeint\n",
    "clip = 5\n",
    "\n",
    "# Initial Loss value (assumed big)\n",
    "valid_loss_min = np.Inf\n",
    "\n",
    "# Lists to follow the evolution of the loss and accuracy\n",
    "epoch_tr_loss, epoch_vl_loss = [], []\n",
    "epoch_tr_acc, epoch_vl_acc = [], []\n",
    "\n",
    "# Train for a number of Epochs\n",
    "for epoch in range(epochs):\n",
    "  train_losses = []\n",
    "  train_acc = 0.0\n",
    "  model.train()\n",
    "\n",
    "  for inputs, labels in train_loader:\n",
    "    # Initialize hidden state \n",
    "    h = model.init_hidden(batch_size)\n",
    "    \n",
    "    # Creating new variables for the hidden state\n",
    "    h = tuple([each.data.to(device) for each in h])\n",
    "    \n",
    "    # Move batch inputs and labels to gpu\n",
    "    inputs, labels = inputs.to(device), labels.to(device)   \n",
    "\n",
    "    # Set gradient to zero\n",
    "    model.zero_grad()\n",
    "    \n",
    "    # Compute model output\n",
    "    output, h = model(inputs, h)\n",
    "\n",
    "    # Calculate the loss and perform backprop\n",
    "    loss = criterion(output.squeeze(), labels.long())\n",
    "    loss.backward()\n",
    "    train_losses.append(loss.item())\n",
    "    \n",
    "    # calculating accuracy\n",
    "    accuracy = acc(output,labels)\n",
    "    train_acc += accuracy\n",
    "\n",
    "    #`clip_grad_norm` helps prevent the exploding gradient problem in RNNs / LSTMs.\n",
    "    nn.utils.clip_grad_norm_(model.parameters(), clip)\n",
    "    optimizer.step()\n",
    "    \n",
    "  # Evaluate on the validation set for this epoch \n",
    "  val_losses = []\n",
    "  val_acc = 0.0\n",
    "  model.eval()\n",
    "    \n",
    "  for inputs, labels in test_loader:\n",
    "    \n",
    "    # Initialize hidden state \n",
    "    val_h = model.init_hidden(batch_size)\n",
    "    val_h = tuple([each.data.to(device) for each in val_h])\n",
    "\n",
    "    # Move batch inputs and labels to gpu\n",
    "    inputs, labels = inputs.to(device), labels.to(device)\n",
    "\n",
    "    # Compute model output\n",
    "    output, val_h = model(inputs, val_h)\n",
    "\n",
    "    # Compute Loss\n",
    "    val_loss = criterion(output.squeeze(), labels.long())\n",
    "\n",
    "    val_losses.append(val_loss.item())\n",
    "\n",
    "    accuracy = acc(output, labels)\n",
    "    val_acc += accuracy\n",
    "\n",
    "  epoch_train_loss = np.mean(train_losses)\n",
    "  epoch_val_loss = np.mean(val_losses)\n",
    "  epoch_train_acc = train_acc/len(train_loader.dataset)\n",
    "  epoch_val_acc = val_acc/len(test_loader.dataset)\n",
    "  epoch_tr_loss.append(epoch_train_loss)\n",
    "  epoch_vl_loss.append(epoch_val_loss)\n",
    "  epoch_tr_acc.append(epoch_train_acc)\n",
    "  epoch_vl_acc.append(epoch_val_acc)\n",
    "  print(f'Epoch {epoch+1}') \n",
    "  print(f'train_loss : {epoch_train_loss} val_loss : {epoch_val_loss}')\n",
    "  print(f'train_accuracy : {epoch_train_acc*100} val_accuracy : {epoch_val_acc*100}')\n",
    "  if epoch_val_loss <= valid_loss_min:\n",
    "    print('Validation loss decreased ({:.6f} --> {:.6f}).  Saving model ...'.format(valid_loss_min,epoch_val_loss))\n",
    "    # torch.save(model.state_dict(), '../working/state_dict.pt')\n",
    "    valid_loss_min = epoch_val_loss\n",
    "  print(25*'==')"
   ]
  },
  {
   "cell_type": "code",
   "execution_count": 30,
   "id": "d82a85c9",
   "metadata": {
    "execution": {
     "iopub.execute_input": "2021-08-15T16:40:58.506587Z",
     "iopub.status.busy": "2021-08-15T16:40:58.493843Z",
     "iopub.status.idle": "2021-08-15T16:40:59.011994Z",
     "shell.execute_reply": "2021-08-15T16:40:59.011431Z",
     "shell.execute_reply.started": "2021-08-15T16:33:44.848655Z"
    },
    "papermill": {
     "duration": 0.627887,
     "end_time": "2021-08-15T16:40:59.012136",
     "exception": false,
     "start_time": "2021-08-15T16:40:58.384249",
     "status": "completed"
    },
    "tags": []
   },
   "outputs": [
    {
     "data": {
      "image/png": "[encoded data removed]",
      "text/plain": [
       "<Figure size 1440x432 with 2 Axes>"
      ]
     },
     "metadata": {
      "needs_background": "light"
     },
     "output_type": "display_data"
    }
   ],
   "source": [
    "fig = plt.figure(figsize = (20, 6))\n",
    "plt.subplot(1, 2, 1)\n",
    "plt.plot(epoch_tr_acc, label='Train Acc')\n",
    "plt.plot(epoch_vl_acc, label='Validation Acc')\n",
    "plt.title(\"Accuracy\")\n",
    "plt.legend()\n",
    "plt.grid()\n",
    "\n",
    "plt.subplot(1, 2, 2)\n",
    "plt.plot(epoch_tr_loss, label='Train loss')\n",
    "plt.plot(epoch_vl_loss, label='Validation loss')\n",
    "plt.title(\"Loss\")\n",
    "plt.legend()\n",
    "plt.grid()\n",
    "\n",
    "plt.show()"
   ]
  }
 ],
 "metadata": {
  "kernelspec": {
   "display_name": "Python 3",
   "language": "python",
   "name": "python3"
  },
  "language_info": {
   "codemirror_mode": {
    "name": "ipython",
    "version": 3
   },
   "file_extension": ".py",
   "mimetype": "text/x-python",
   "name": "python",
   "nbconvert_exporter": "python",
   "pygments_lexer": "ipython3",
   "version": "3.8.8"
  },
  "papermill": {
   "default_parameters": {},
   "duration": 407.824446,
   "end_time": "2021-08-15T16:41:00.921436",
   "environment_variables": {},
   "exception": null,
   "input_path": "__notebook__.ipynb",
   "output_path": "__notebook__.ipynb",
   "parameters": {},
   "start_time": "2021-08-15T16:34:13.096990",
   "version": "2.3.3"
  },
  "widgets": {
   "application/vnd.jupyter.widget-state+json": {
    "state": {
     "02766666de274297b9f0551bcb14e5f5": {
      "model_module": "@jupyter-widgets/controls",
      "model_module_version": "1.5.0",
      "model_name": "HBoxModel",
      "state": {
       "_dom_classes": [],
       "_model_module": "@jupyter-widgets/controls",
       "_model_module_version": "1.5.0",
       "_model_name": "HBoxModel",
       "_view_count": null,
       "_view_module": "@jupyter-widgets/controls",
       "_view_module_version": "1.5.0",
       "_view_name": "HBoxView",
       "box_style": "",
       "children": [
        "IPY_MODEL_1acde2a1c58c4273830d4a72de1d2052",
        "IPY_MODEL_a45d49daf1e44672b461499b1d939536",
        "IPY_MODEL_d34d5d1bd18e46f781615e8e62e6059e"
       ],
       "layout": "IPY_MODEL_a1885c7058f741b182ae4bd566453102"
      }
     },
     "037851f0d59b4e1285c16e789c3e8217": {
      "model_module": "@jupyter-widgets/controls",
      "model_module_version": "1.5.0",
      "model_name": "HTMLModel",
      "state": {
       "_dom_classes": [],
       "_model_module": "@jupyter-widgets/controls",
       "_model_module_version": "1.5.0",
       "_model_name": "HTMLModel",
       "_view_count": null,
       "_view_module": "@jupyter-widgets/controls",
       "_view_module_version": "1.5.0",
       "_view_name": "HTMLView",
       "description": "",
       "description_tooltip": null,
       "layout": "IPY_MODEL_cd67c1640949449389b4c0fcf0c8b7ff",
       "placeholder": "​",
       "style": "IPY_MODEL_9003ca7ddfb04ceab0387052ee2d2496",
       "value": " 3441/3441 [00:00&lt;00:00, 38896.64it/s]"
      }
     },
     "0716440d6c3e41b79ea067ead3737b9d": {
      "model_module": "@jupyter-widgets/base",
      "model_module_version": "1.2.0",
      "model_name": "LayoutModel",
      "state": {
       "_model_module": "@jupyter-widgets/base",
       "_model_module_version": "1.2.0",
       "_model_name": "LayoutModel",
       "_view_count": null,
       "_view_module": "@jupyter-widgets/base",
       "_view_module_version": "1.2.0",
       "_view_name": "LayoutView",
       "align_content": null,
       "align_items": null,
       "align_self": null,
       "border": null,
       "bottom": null,
       "display": null,
       "flex": null,
       "flex_flow": null,
       "grid_area": null,
       "grid_auto_columns": null,
       "grid_auto_flow": null,
       "grid_auto_rows": null,
       "grid_column": null,
       "grid_gap": null,
       "grid_row": null,
       "grid_template_areas": null,
       "grid_template_columns": null,
       "grid_template_rows": null,
       "height": null,
       "justify_content": null,
       "justify_items": null,
       "left": null,
       "margin": null,
       "max_height": null,
       "max_width": null,
       "min_height": null,
       "min_width": null,
       "object_fit": null,
       "object_position": null,
       "order": null,
       "overflow": null,
       "overflow_x": null,
       "overflow_y": null,
       "padding": null,
       "right": null,
       "top": null,
       "visibility": null,
       "width": null
      }
     },
     "1acde2a1c58c4273830d4a72de1d2052": {
      "model_module": "@jupyter-widgets/controls",
      "model_module_version": "1.5.0",
      "model_name": "HTMLModel",
      "state": {
       "_dom_classes": [],
       "_model_module": "@jupyter-widgets/controls",
       "_model_module_version": "1.5.0",
       "_model_name": "HTMLModel",
       "_view_count": null,
       "_view_module": "@jupyter-widgets/controls",
       "_view_module_version": "1.5.0",
       "_view_name": "HTMLView",
       "description": "",
       "description_tooltip": null,
       "layout": "IPY_MODEL_b6483a97641b48b99fb5dd293b8c2dd7",
       "placeholder": "​",
       "style": "IPY_MODEL_d81140d784c34134a6f08668a268204e",
       "value": "100%"
      }
     },
     "29058c8850854149bc92cdc7239d0cd4": {
      "model_module": "@jupyter-widgets/base",
      "model_module_version": "1.2.0",
      "model_name": "LayoutModel",
      "state": {
       "_model_module": "@jupyter-widgets/base",
       "_model_module_version": "1.2.0",
       "_model_name": "LayoutModel",
       "_view_count": null,
       "_view_module": "@jupyter-widgets/base",
       "_view_module_version": "1.2.0",
       "_view_name": "LayoutView",
       "align_content": null,
       "align_items": null,
       "align_self": null,
       "border": null,
       "bottom": null,
       "display": null,
       "flex": null,
       "flex_flow": null,
       "grid_area": null,
       "grid_auto_columns": null,
       "grid_auto_flow": null,
       "grid_auto_rows": null,
       "grid_column": null,
       "grid_gap": null,
       "grid_row": null,
       "grid_template_areas": null,
       "grid_template_columns": null,
       "grid_template_rows": null,
       "height": null,
       "justify_content": null,
       "justify_items": null,
       "left": null,
       "margin": null,
       "max_height": null,
       "max_width": null,
       "min_height": null,
       "min_width": null,
       "object_fit": null,
       "object_position": null,
       "order": null,
       "overflow": null,
       "overflow_x": null,
       "overflow_y": null,
       "padding": null,
       "right": null,
       "top": null,
       "visibility": null,
       "width": null
      }
     },
     "324c2309d8724a5883759670ecfd1412": {
      "model_module": "@jupyter-widgets/base",
      "model_module_version": "1.2.0",
      "model_name": "LayoutModel",
      "state": {
       "_model_module": "@jupyter-widgets/base",
       "_model_module_version": "1.2.0",
       "_model_name": "LayoutModel",
       "_view_count": null,
       "_view_module": "@jupyter-widgets/base",
       "_view_module_version": "1.2.0",
       "_view_name": "LayoutView",
       "align_content": null,
       "align_items": null,
       "align_self": null,
       "border": null,
       "bottom": null,
       "display": null,
       "flex": null,
       "flex_flow": null,
       "grid_area": null,
       "grid_auto_columns": null,
       "grid_auto_flow": null,
       "grid_auto_rows": null,
       "grid_column": null,
       "grid_gap": null,
       "grid_row": null,
       "grid_template_areas": null,
       "grid_template_columns": null,
       "grid_template_rows": null,
       "height": null,
       "justify_content": null,
       "justify_items": null,
       "left": null,
       "margin": null,
       "max_height": null,
       "max_width": null,
       "min_height": null,
       "min_width": null,
       "object_fit": null,
       "object_position": null,
       "order": null,
       "overflow": null,
       "overflow_x": null,
       "overflow_y": null,
       "padding": null,
       "right": null,
       "top": null,
       "visibility": null,
       "width": null
      }
     },
     "356b9e52039f4b3c9efdd7aa259372c4": {
      "model_module": "@jupyter-widgets/controls",
      "model_module_version": "1.5.0",
      "model_name": "FloatProgressModel",
      "state": {
       "_dom_classes": [],
       "_model_module": "@jupyter-widgets/controls",
       "_model_module_version": "1.5.0",
       "_model_name": "FloatProgressModel",
       "_view_count": null,
       "_view_module": "@jupyter-widgets/controls",
       "_view_module_version": "1.5.0",
       "_view_name": "ProgressView",
       "bar_style": "success",
       "description": "",
       "description_tooltip": null,
       "layout": "IPY_MODEL_f6560144cf554b9583311b8b4c82583a",
       "max": 3441,
       "min": 0,
       "orientation": "horizontal",
       "style": "IPY_MODEL_4e8508fec4254c5282c58e14b78792cc",
       "value": 3441
      }
     },
     "39199f6de1514a329fc6a9396929a5db": {
      "model_module": "@jupyter-widgets/controls",
      "model_module_version": "1.5.0",
      "model_name": "DescriptionStyleModel",
      "state": {
       "_model_module": "@jupyter-widgets/controls",
       "_model_module_version": "1.5.0",
       "_model_name": "DescriptionStyleModel",
       "_view_count": null,
       "_view_module": "@jupyter-widgets/base",
       "_view_module_version": "1.2.0",
       "_view_name": "StyleView",
       "description_width": ""
      }
     },
     "4e8508fec4254c5282c58e14b78792cc": {
      "model_module": "@jupyter-widgets/controls",
      "model_module_version": "1.5.0",
      "model_name": "ProgressStyleModel",
      "state": {
       "_model_module": "@jupyter-widgets/controls",
       "_model_module_version": "1.5.0",
       "_model_name": "ProgressStyleModel",
       "_view_count": null,
       "_view_module": "@jupyter-widgets/base",
       "_view_module_version": "1.2.0",
       "_view_name": "StyleView",
       "bar_color": null,
       "description_width": ""
      }
     },
     "61477f0ad11247d6ac9318c1607067e6": {
      "model_module": "@jupyter-widgets/base",
      "model_module_version": "1.2.0",
      "model_name": "LayoutModel",
      "state": {
       "_model_module": "@jupyter-widgets/base",
       "_model_module_version": "1.2.0",
       "_model_name": "LayoutModel",
       "_view_count": null,
       "_view_module": "@jupyter-widgets/base",
       "_view_module_version": "1.2.0",
       "_view_name": "LayoutView",
       "align_content": null,
       "align_items": null,
       "align_self": null,
       "border": null,
       "bottom": null,
       "display": null,
       "flex": null,
       "flex_flow": null,
       "grid_area": null,
       "grid_auto_columns": null,
       "grid_auto_flow": null,
       "grid_auto_rows": null,
       "grid_column": null,
       "grid_gap": null,
       "grid_row": null,
       "grid_template_areas": null,
       "grid_template_columns": null,
       "grid_template_rows": null,
       "height": null,
       "justify_content": null,
       "justify_items": null,
       "left": null,
       "margin": null,
       "max_height": null,
       "max_width": null,
       "min_height": null,
       "min_width": null,
       "object_fit": null,
       "object_position": null,
       "order": null,
       "overflow": null,
       "overflow_x": null,
       "overflow_y": null,
       "padding": null,
       "right": null,
       "top": null,
       "visibility": null,
       "width": null
      }
     },
     "815d9b994ef44554bfe9c6e451aa242b": {
      "model_module": "@jupyter-widgets/controls",
      "model_module_version": "1.5.0",
      "model_name": "HBoxModel",
      "state": {
       "_dom_classes": [],
       "_model_module": "@jupyter-widgets/controls",
       "_model_module_version": "1.5.0",
       "_model_name": "HBoxModel",
       "_view_count": null,
       "_view_module": "@jupyter-widgets/controls",
       "_view_module_version": "1.5.0",
       "_view_name": "HBoxView",
       "box_style": "",
       "children": [
        "IPY_MODEL_f8d4bf9f4c244c4da4f0d7277394655a",
        "IPY_MODEL_356b9e52039f4b3c9efdd7aa259372c4",
        "IPY_MODEL_037851f0d59b4e1285c16e789c3e8217"
       ],
       "layout": "IPY_MODEL_29058c8850854149bc92cdc7239d0cd4"
      }
     },
     "9003ca7ddfb04ceab0387052ee2d2496": {
      "model_module": "@jupyter-widgets/controls",
      "model_module_version": "1.5.0",
      "model_name": "DescriptionStyleModel",
      "state": {
       "_model_module": "@jupyter-widgets/controls",
       "_model_module_version": "1.5.0",
       "_model_name": "DescriptionStyleModel",
       "_view_count": null,
       "_view_module": "@jupyter-widgets/base",
       "_view_module_version": "1.2.0",
       "_view_name": "StyleView",
       "description_width": ""
      }
     },
     "940be18fda3b4113a3fbd18fb8528800": {
      "model_module": "@jupyter-widgets/controls",
      "model_module_version": "1.5.0",
      "model_name": "ProgressStyleModel",
      "state": {
       "_model_module": "@jupyter-widgets/controls",
       "_model_module_version": "1.5.0",
       "_model_name": "ProgressStyleModel",
       "_view_count": null,
       "_view_module": "@jupyter-widgets/base",
       "_view_module_version": "1.2.0",
       "_view_name": "StyleView",
       "bar_color": null,
       "description_width": ""
      }
     },
     "a1885c7058f741b182ae4bd566453102": {
      "model_module": "@jupyter-widgets/base",
      "model_module_version": "1.2.0",
      "model_name": "LayoutModel",
      "state": {
       "_model_module": "@jupyter-widgets/base",
       "_model_module_version": "1.2.0",
       "_model_name": "LayoutModel",
       "_view_count": null,
       "_view_module": "@jupyter-widgets/base",
       "_view_module_version": "1.2.0",
       "_view_name": "LayoutView",
       "align_content": null,
       "align_items": null,
       "align_self": null,
       "border": null,
       "bottom": null,
       "display": null,
       "flex": null,
       "flex_flow": null,
       "grid_area": null,
       "grid_auto_columns": null,
       "grid_auto_flow": null,
       "grid_auto_rows": null,
       "grid_column": null,
       "grid_gap": null,
       "grid_row": null,
       "grid_template_areas": null,
       "grid_template_columns": null,
       "grid_template_rows": null,
       "height": null,
       "justify_content": null,
       "justify_items": null,
       "left": null,
       "margin": null,
       "max_height": null,
       "max_width": null,
       "min_height": null,
       "min_width": null,
       "object_fit": null,
       "object_position": null,
       "order": null,
       "overflow": null,
       "overflow_x": null,
       "overflow_y": null,
       "padding": null,
       "right": null,
       "top": null,
       "visibility": null,
       "width": null
      }
     },
     "a45d49daf1e44672b461499b1d939536": {
      "model_module": "@jupyter-widgets/controls",
      "model_module_version": "1.5.0",
      "model_name": "FloatProgressModel",
      "state": {
       "_dom_classes": [],
       "_model_module": "@jupyter-widgets/controls",
       "_model_module_version": "1.5.0",
       "_model_name": "FloatProgressModel",
       "_view_count": null,
       "_view_module": "@jupyter-widgets/controls",
       "_view_module_version": "1.5.0",
       "_view_name": "ProgressView",
       "bar_style": "success",
       "description": "",
       "description_tooltip": null,
       "layout": "IPY_MODEL_324c2309d8724a5883759670ecfd1412",
       "max": 13763,
       "min": 0,
       "orientation": "horizontal",
       "style": "IPY_MODEL_940be18fda3b4113a3fbd18fb8528800",
       "value": 13763
      }
     },
     "b6483a97641b48b99fb5dd293b8c2dd7": {
      "model_module": "@jupyter-widgets/base",
      "model_module_version": "1.2.0",
      "model_name": "LayoutModel",
      "state": {
       "_model_module": "@jupyter-widgets/base",
       "_model_module_version": "1.2.0",
       "_model_name": "LayoutModel",
       "_view_count": null,
       "_view_module": "@jupyter-widgets/base",
       "_view_module_version": "1.2.0",
       "_view_name": "LayoutView",
       "align_content": null,
       "align_items": null,
       "align_self": null,
       "border": null,
       "bottom": null,
       "display": null,
       "flex": null,
       "flex_flow": null,
       "grid_area": null,
       "grid_auto_columns": null,
       "grid_auto_flow": null,
       "grid_auto_rows": null,
       "grid_column": null,
       "grid_gap": null,
       "grid_row": null,
       "grid_template_areas": null,
       "grid_template_columns": null,
       "grid_template_rows": null,
       "height": null,
       "justify_content": null,
       "justify_items": null,
       "left": null,
       "margin": null,
       "max_height": null,
       "max_width": null,
       "min_height": null,
       "min_width": null,
       "object_fit": null,
       "object_position": null,
       "order": null,
       "overflow": null,
       "overflow_x": null,
       "overflow_y": null,
       "padding": null,
       "right": null,
       "top": null,
       "visibility": null,
       "width": null
      }
     },
     "cd67c1640949449389b4c0fcf0c8b7ff": {
      "model_module": "@jupyter-widgets/base",
      "model_module_version": "1.2.0",
      "model_name": "LayoutModel",
      "state": {
       "_model_module": "@jupyter-widgets/base",
       "_model_module_version": "1.2.0",
       "_model_name": "LayoutModel",
       "_view_count": null,
       "_view_module": "@jupyter-widgets/base",
       "_view_module_version": "1.2.0",
       "_view_name": "LayoutView",
       "align_content": null,
       "align_items": null,
       "align_self": null,
       "border": null,
       "bottom": null,
       "display": null,
       "flex": null,
       "flex_flow": null,
       "grid_area": null,
       "grid_auto_columns": null,
       "grid_auto_flow": null,
       "grid_auto_rows": null,
       "grid_column": null,
       "grid_gap": null,
       "grid_row": null,
       "grid_template_areas": null,
       "grid_template_columns": null,
       "grid_template_rows": null,
       "height": null,
       "justify_content": null,
       "justify_items": null,
       "left": null,
       "margin": null,
       "max_height": null,
       "max_width": null,
       "min_height": null,
       "min_width": null,
       "object_fit": null,
       "object_position": null,
       "order": null,
       "overflow": null,
       "overflow_x": null,
       "overflow_y": null,
       "padding": null,
       "right": null,
       "top": null,
       "visibility": null,
       "width": null
      }
     },
     "d34d5d1bd18e46f781615e8e62e6059e": {
      "model_module": "@jupyter-widgets/controls",
      "model_module_version": "1.5.0",
      "model_name": "HTMLModel",
      "state": {
       "_dom_classes": [],
       "_model_module": "@jupyter-widgets/controls",
       "_model_module_version": "1.5.0",
       "_model_name": "HTMLModel",
       "_view_count": null,
       "_view_module": "@jupyter-widgets/controls",
       "_view_module_version": "1.5.0",
       "_view_name": "HTMLView",
       "description": "",
       "description_tooltip": null,
       "layout": "IPY_MODEL_0716440d6c3e41b79ea067ead3737b9d",
       "placeholder": "​",
       "style": "IPY_MODEL_39199f6de1514a329fc6a9396929a5db",
       "value": " 13763/13763 [00:00&lt;00:00, 54239.31it/s]"
      }
     },
     "d81140d784c34134a6f08668a268204e": {
      "model_module": "@jupyter-widgets/controls",
      "model_module_version": "1.5.0",
      "model_name": "DescriptionStyleModel",
      "state": {
       "_model_module": "@jupyter-widgets/controls",
       "_model_module_version": "1.5.0",
       "_model_name": "DescriptionStyleModel",
       "_view_count": null,
       "_view_module": "@jupyter-widgets/base",
       "_view_module_version": "1.2.0",
       "_view_name": "StyleView",
       "description_width": ""
      }
     },
     "f6560144cf554b9583311b8b4c82583a": {
      "model_module": "@jupyter-widgets/base",
      "model_module_version": "1.2.0",
      "model_name": "LayoutModel",
      "state": {
       "_model_module": "@jupyter-widgets/base",
       "_model_module_version": "1.2.0",
       "_model_name": "LayoutModel",
       "_view_count": null,
       "_view_module": "@jupyter-widgets/base",
       "_view_module_version": "1.2.0",
       "_view_name": "LayoutView",
       "align_content": null,
       "align_items": null,
       "align_self": null,
       "border": null,
       "bottom": null,
       "display": null,
       "flex": null,
       "flex_flow": null,
       "grid_area": null,
       "grid_auto_columns": null,
       "grid_auto_flow": null,
       "grid_auto_rows": null,
       "grid_column": null,
       "grid_gap": null,
       "grid_row": null,
       "grid_template_areas": null,
       "grid_template_columns": null,
       "grid_template_rows": null,
       "height": null,
       "justify_content": null,
       "justify_items": null,
       "left": null,
       "margin": null,
       "max_height": null,
       "max_width": null,
       "min_height": null,
       "min_width": null,
       "object_fit": null,
       "object_position": null,
       "order": null,
       "overflow": null,
       "overflow_x": null,
       "overflow_y": null,
       "padding": null,
       "right": null,
       "top": null,
       "visibility": null,
       "width": null
      }
     },
     "f8d4bf9f4c244c4da4f0d7277394655a": {
      "model_module": "@jupyter-widgets/controls",
      "model_module_version": "1.5.0",
      "model_name": "HTMLModel",
      "state": {
       "_dom_classes": [],
       "_model_module": "@jupyter-widgets/controls",
       "_model_module_version": "1.5.0",
       "_model_name": "HTMLModel",
       "_view_count": null,
       "_view_module": "@jupyter-widgets/controls",
       "_view_module_version": "1.5.0",
       "_view_name": "HTMLView",
       "description": "",
       "description_tooltip": null,
       "layout": "IPY_MODEL_61477f0ad11247d6ac9318c1607067e6",
       "placeholder": "​",
       "style": "IPY_MODEL_fd7138d764ec47acb52e4f51226ab41d",
       "value": "100%"
      }
     },
     "fd7138d764ec47acb52e4f51226ab41d": {
      "model_module": "@jupyter-widgets/controls",
      "model_module_version": "1.5.0",
      "model_name": "DescriptionStyleModel",
      "state": {
       "_model_module": "@jupyter-widgets/controls",
       "_model_module_version": "1.5.0",
       "_model_name": "DescriptionStyleModel",
       "_view_count": null,
       "_view_module": "@jupyter-widgets/base",
       "_view_module_version": "1.2.0",
       "_view_name": "StyleView",
       "description_width": ""
      }
     }
    },
    "version_major": 2,
    "version_minor": 0
   }
  }
 },
 "nbformat": 4,
 "nbformat_minor": 5
}
